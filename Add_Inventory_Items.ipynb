{
  "nbformat": 4,
  "nbformat_minor": 0,
  "metadata": {
    "colab": {
      "name": "Add_Inventory_Items.ipynb",
      "provenance": []
    },
    "kernelspec": {
      "name": "python3",
      "display_name": "Python 3"
    },
    "language_info": {
      "name": "python"
    }
  },
  "cells": [
    {
      "cell_type": "markdown",
      "metadata": {
        "id": "0OrV1783dii0"
      },
      "source": [
        "Reading JSON file"
      ]
    },
    {
      "cell_type": "code",
      "metadata": {
        "id": "1KEuDB-UOGxb"
      },
      "source": [
        "import json"
      ],
      "execution_count": 4,
      "outputs": []
    },
    {
      "cell_type": "code",
      "metadata": {
        "colab": {
          "base_uri": "https://localhost:8080/",
          "height": 154
        },
        "id": "a9A1TFi6VuEu",
        "outputId": "f21f16b4-aad3-4981-e833-8b9009d028fc"
      },
      "source": [
        "file=open(\"record.json\",\"r\")\n",
        "record=file.read()\n",
        "file.close()\n",
        "record"
      ],
      "execution_count": 68,
      "outputs": [
        {
          "output_type": "execute_result",
          "data": {
            "application/vnd.google.colaboratory.intrinsic+json": {
              "type": "string"
            },
            "text/plain": [
              "'{\"1001\": {\"name\": \"kitkat\", \"quant\": 30, \"price\": 10, \"category\": \"chocolate\", \"weight\": \"20g\"}, \"1002\": {\"name\": \"bourbon\", \"quant\": 50, \"price\": 30, \"category\": \"biscuits\", \"weight\": \"40g\"}, \"1003\": {\"name\": \"amul\", \"quant\": 20, \"price\": 200, \"category\": \"icecream\", \"weight\": \"500g\"}, \"1004\": {\"name\": \"pizza\", \"quant\": 40, \"price\": 110, \"category\": \"baked\", \"weight\": \"200g\"}, \"1005\": {\"name\": \"cheese\", \"quant\": 50, \"price\": 45, \"category\": \"milkproduct\", \"weight\": \"20g\"}, \"1006\": {\"name\": \"eggs\", \"quant\": 500, \"price\": 5, \"category\": \"grocery\", \"weight\": \"10g\"}, \"1007\": {\"name\": \"milk\", \"quant\": 50, \"price\": 27, \"category\": \"milkproducts\", \"weight\": \"250ml\"}, \"1008\": {\"name\": \"pancakes\", \"quant\": 50, \"price\": 30, \"category\": \"cakes\", \"weight\": \"20g\"}, \"1009\": {\"name\": \"fruitcakes\", \"quant\": 45, \"price\": 30, \"category\": \"cakes\", \"weight\": \"30g\"}, \"1010\": {\"name\": \"muffins\", \"quant\": 60, \"price\": 25, \"category\": \"cakes\", \"weight\": \"10g\"}, \"1011\": {\"name\": \"bread\", \"quant\": 75, \"price\": 30, \"category\": \"baked\", \"weight\": \"100g\"}, \"1012\": {\"name\": \"maggi\", \"quant\": 55, \"price\": 15, \"category\": \"noodles\", \"weight\": \"20g\"}, \"1013\": {\"name\": \"pasta\", \"quant\": 67, \"price\": 80, \"category\": \"pasta\", \"weight\": \"60g\"}, \"1014\": {\"name\": \"ricebag\", \"quant\": 80, \"price\": 1250, \"category\": \"rice\", \"weight\": \"25kg\"}, \"1015\": {\"name\": \"kissanketchup\", \"quant\": 80, \"price\": 115, \"category\": \"ketchup\", \"weight\": \"200g\"}, \"1016\": {\"name\": \"peanutbutter\", \"quant\": 70, \"price\": 250, \"category\": \"butter\", \"weight\": \"500g\"}, \"1017\": {\"name\": \"coffee\", \"quant\": 70, \"price\": 20, \"category\": \"beverage\", \"weight\": \"20g\"}, \"1018\": {\"name\": \"tea\", \"quant\": 90, \"price\": 15, \"category\": \"beverage\", \"weight\": \"20g\"}, \"1019\": {\"name\": \"candy\", \"quant\": 500, \"price\": 2, \"category\": \"chocolate\", \"weight\": \"5g\"}, \"1020\": {\"name\": \"kurkure\", \"quant\": 80, \"price\": 5, \"category\": \"chips\", \"weight\": \"20g\"}, \"1021\": {\"name\": \"lays\", \"quant\": 50, \"price\": 5, \"category\": \"chips\", \"weight\": \"20g\"}, \"1022\": {\"name\": \"popcorn\", \"quant\": 70, \"price\": 20, \"category\": \"snack\", \"weight\": \"20g\"}, \"1023\": {\"name\": \"cornstarch\", \"quant\": 500, \"price\": 50, \"category\": \"flour\", \"weight\": \"50g\"}, \"1024\": {\"name\": \"wheatflour\", \"quant\": 400, \"price\": 250, \"category\": \"flour\", \"weight\": \"200g\"}, \"1025\": {\"name\": \"rin\", \"quant\": 200, \"price\": 20, \"category\": \"detergent\", \"weight\": \"20g\"}, \"1026\": {\"name\": \"vimbar\", \"quant\": 400, \"price\": 20, \"category\": \"soaps\", \"weight\": \"20g\"}, \"1027\": {\"name\": \"santoor\", \"quant\": 200, \"price\": 25, \"category\": \"soaps\", \"weight\": \"20g\"}, \"1028\": {\"name\": \"head&shoulder\", \"quant\": 500, \"price\": 115, \"category\": \"shampoo\", \"weight\": \"200ml\"}, \"1029\": {\"name\": \"duracel\", \"quant\": 200, \"price\": 25, \"category\": \"batteries\", \"weight\": \"10g\"}, \"1030\": {\"name\": \"laptops\", \"quant\": 20, \"price\": 25000, \"category\": \"electronics\", \"weight\": \"1.5kg\"}}'"
            ]
          },
          "metadata": {},
          "execution_count": 68
        }
      ]
    },
    {
      "cell_type": "code",
      "metadata": {
        "id": "-yKLmv_oX_oZ"
      },
      "source": [
        "data=json.loads(record)"
      ],
      "execution_count": 19,
      "outputs": []
    },
    {
      "cell_type": "code",
      "metadata": {
        "colab": {
          "base_uri": "https://localhost:8080/"
        },
        "id": "o8z4wg0cYRDs",
        "outputId": "c2bf9553-e706-42c1-84cd-7f760ef2c9d1"
      },
      "source": [
        "data"
      ],
      "execution_count": 25,
      "outputs": [
        {
          "output_type": "execute_result",
          "data": {
            "text/plain": [
              "{'1001': {'category': 'chocolate',\n",
              "  'name': 'kitkat',\n",
              "  'price': 10,\n",
              "  'quant': 30,\n",
              "  'weight': '20g'}}"
            ]
          },
          "metadata": {},
          "execution_count": 25
        }
      ]
    },
    {
      "cell_type": "markdown",
      "metadata": {
        "id": "LZuPs2Pddst8"
      },
      "source": [
        "Adding Items to the JSON file"
      ]
    },
    {
      "cell_type": "code",
      "metadata": {
        "colab": {
          "base_uri": "https://localhost:8080/"
        },
        "id": "CU_BWZBQYiLf",
        "outputId": "8b303de7-bc61-420e-f42d-6f55a265f3bb"
      },
      "source": [
        "prod_id=input(\"enter prod_id\")\n",
        "name=input(\"enter prod_name\")\n",
        "quant=int(input(\"enter quantity\"))\n",
        "price=int(input(\"enter price\"))\n",
        "category=input(\"enter category\")\n",
        "weight=input(\"enter weight\")\n",
        "\n",
        "data[prod_id]={\"name\":name,\"quant\":quant,\"price\":price,\"category\":category,\"weight\":weight}\n",
        "\n",
        "js = json.dumps(data)\n",
        "\n",
        "file = open(\"record.json\",'w')\n",
        "file.write(js)\n",
        "file.close()"
      ],
      "execution_count": 67,
      "outputs": [
        {
          "name": "stdout",
          "output_type": "stream",
          "text": [
            "enter prod_id1030\n",
            "enter prod_namelaptops\n",
            "enter quantity20\n",
            "enter price25000\n",
            "enter categoryelectronics\n",
            "enter weight1.5kg\n"
          ]
        }
      ]
    },
    {
      "cell_type": "code",
      "metadata": {
        "colab": {
          "base_uri": "https://localhost:8080/"
        },
        "id": "yOnMt4E0aFPa",
        "outputId": "d7561174-f98f-4789-d977-31dc4c70bbee"
      },
      "source": [
        "data"
      ],
      "execution_count": 69,
      "outputs": [
        {
          "output_type": "execute_result",
          "data": {
            "text/plain": [
              "{'1001': {'category': 'chocolate',\n",
              "  'name': 'kitkat',\n",
              "  'price': 10,\n",
              "  'quant': 30,\n",
              "  'weight': '20g'},\n",
              " '1002': {'category': 'biscuits',\n",
              "  'name': 'bourbon',\n",
              "  'price': 30,\n",
              "  'quant': 50,\n",
              "  'weight': '40g'},\n",
              " '1003': {'category': 'icecream',\n",
              "  'name': 'amul',\n",
              "  'price': 200,\n",
              "  'quant': 20,\n",
              "  'weight': '500g'},\n",
              " '1004': {'category': 'baked',\n",
              "  'name': 'pizza',\n",
              "  'price': 110,\n",
              "  'quant': 40,\n",
              "  'weight': '200g'},\n",
              " '1005': {'category': 'milkproduct',\n",
              "  'name': 'cheese',\n",
              "  'price': 45,\n",
              "  'quant': 50,\n",
              "  'weight': '20g'},\n",
              " '1006': {'category': 'grocery',\n",
              "  'name': 'eggs',\n",
              "  'price': 5,\n",
              "  'quant': 500,\n",
              "  'weight': '10g'},\n",
              " '1007': {'category': 'milkproducts',\n",
              "  'name': 'milk',\n",
              "  'price': 27,\n",
              "  'quant': 50,\n",
              "  'weight': '250ml'},\n",
              " '1008': {'category': 'cakes',\n",
              "  'name': 'pancakes',\n",
              "  'price': 30,\n",
              "  'quant': 50,\n",
              "  'weight': '20g'},\n",
              " '1009': {'category': 'cakes',\n",
              "  'name': 'fruitcakes',\n",
              "  'price': 30,\n",
              "  'quant': 45,\n",
              "  'weight': '30g'},\n",
              " '1010': {'category': 'cakes',\n",
              "  'name': 'muffins',\n",
              "  'price': 25,\n",
              "  'quant': 60,\n",
              "  'weight': '10g'},\n",
              " '1011': {'category': 'baked',\n",
              "  'name': 'bread',\n",
              "  'price': 30,\n",
              "  'quant': 75,\n",
              "  'weight': '100g'},\n",
              " '1012': {'category': 'noodles',\n",
              "  'name': 'maggi',\n",
              "  'price': 15,\n",
              "  'quant': 55,\n",
              "  'weight': '20g'},\n",
              " '1013': {'category': 'pasta',\n",
              "  'name': 'pasta',\n",
              "  'price': 80,\n",
              "  'quant': 67,\n",
              "  'weight': '60g'},\n",
              " '1014': {'category': 'rice',\n",
              "  'name': 'ricebag',\n",
              "  'price': 1250,\n",
              "  'quant': 80,\n",
              "  'weight': '25kg'},\n",
              " '1015': {'category': 'ketchup',\n",
              "  'name': 'kissanketchup',\n",
              "  'price': 115,\n",
              "  'quant': 80,\n",
              "  'weight': '200g'},\n",
              " '1016': {'category': 'butter',\n",
              "  'name': 'peanutbutter',\n",
              "  'price': 250,\n",
              "  'quant': 70,\n",
              "  'weight': '500g'},\n",
              " '1017': {'category': 'beverage',\n",
              "  'name': 'coffee',\n",
              "  'price': 20,\n",
              "  'quant': 70,\n",
              "  'weight': '20g'},\n",
              " '1018': {'category': 'beverage',\n",
              "  'name': 'tea',\n",
              "  'price': 15,\n",
              "  'quant': 90,\n",
              "  'weight': '20g'},\n",
              " '1019': {'category': 'chocolate',\n",
              "  'name': 'candy',\n",
              "  'price': 2,\n",
              "  'quant': 500,\n",
              "  'weight': '5g'},\n",
              " '1020': {'category': 'chips',\n",
              "  'name': 'kurkure',\n",
              "  'price': 5,\n",
              "  'quant': 80,\n",
              "  'weight': '20g'},\n",
              " '1021': {'category': 'chips',\n",
              "  'name': 'lays',\n",
              "  'price': 5,\n",
              "  'quant': 50,\n",
              "  'weight': '20g'},\n",
              " '1022': {'category': 'snack',\n",
              "  'name': 'popcorn',\n",
              "  'price': 20,\n",
              "  'quant': 70,\n",
              "  'weight': '20g'},\n",
              " '1023': {'category': 'flour',\n",
              "  'name': 'cornstarch',\n",
              "  'price': 50,\n",
              "  'quant': 500,\n",
              "  'weight': '50g'},\n",
              " '1024': {'category': 'flour',\n",
              "  'name': 'wheatflour',\n",
              "  'price': 250,\n",
              "  'quant': 400,\n",
              "  'weight': '200g'},\n",
              " '1025': {'category': 'detergent',\n",
              "  'name': 'rin',\n",
              "  'price': 20,\n",
              "  'quant': 200,\n",
              "  'weight': '20g'},\n",
              " '1026': {'category': 'soaps',\n",
              "  'name': 'vimbar',\n",
              "  'price': 20,\n",
              "  'quant': 400,\n",
              "  'weight': '20g'},\n",
              " '1027': {'category': 'soaps',\n",
              "  'name': 'santoor',\n",
              "  'price': 25,\n",
              "  'quant': 200,\n",
              "  'weight': '20g'},\n",
              " '1028': {'category': 'shampoo',\n",
              "  'name': 'head&shoulder',\n",
              "  'price': 115,\n",
              "  'quant': 500,\n",
              "  'weight': '200ml'},\n",
              " '1029': {'category': 'batteries',\n",
              "  'name': 'duracel',\n",
              "  'price': 25,\n",
              "  'quant': 200,\n",
              "  'weight': '10g'},\n",
              " '1030': {'category': 'electronics',\n",
              "  'name': 'laptops',\n",
              "  'price': 25000,\n",
              "  'quant': 20,\n",
              "  'weight': '1.5kg'}}"
            ]
          },
          "metadata": {},
          "execution_count": 69
        }
      ]
    },
    {
      "cell_type": "code",
      "metadata": {
        "id": "VtwjStZcl5Qb"
      },
      "source": [
        ""
      ],
      "execution_count": null,
      "outputs": []
    }
  ]
}