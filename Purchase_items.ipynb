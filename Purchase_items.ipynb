{
  "nbformat": 4,
  "nbformat_minor": 0,
  "metadata": {
    "colab": {
      "name": "Purchase_items.ipynb",
      "provenance": [],
      "collapsed_sections": []
    },
    "kernelspec": {
      "name": "python3",
      "display_name": "Python 3"
    },
    "language_info": {
      "name": "python"
    }
  },
  "cells": [
    {
      "cell_type": "code",
      "metadata": {
        "id": "_OJzg93-nIUn"
      },
      "source": [
        "import json\n"
      ],
      "execution_count": 2,
      "outputs": []
    },
    {
      "cell_type": "code",
      "metadata": {
        "id": "dkiqW7FSnoof"
      },
      "source": [
        "file=open(\"record.json\",'r')\n",
        "record=file.read()\n",
        "file.close()\n",
        "data=json.loads(record)"
      ],
      "execution_count": 4,
      "outputs": []
    },
    {
      "cell_type": "markdown",
      "metadata": {
        "id": "fLhWYqDUoJSM"
      },
      "source": [
        "Billing the Purchased products"
      ]
    },
    {
      "cell_type": "code",
      "metadata": {
        "colab": {
          "base_uri": "https://localhost:8080/"
        },
        "id": "n26vQ27InouV",
        "outputId": "ae12e72c-34cb-46bd-d7b9-370850b51653"
      },
      "source": [
        "user_prodid=input(\"enter prod_id\")\n",
        "user_quant=int(input(\"enter product quantity\"))\n",
        "if user_quant <= data[user_prodid]['quant']:\n",
        "  print(\"//************************************//\")\n",
        "  print(\"Product_Id    :\",user_prodid)\n",
        "  print(\"Product_Name  :\",data[user_prodid]['name'])\n",
        "  print(\"Quantity      :\",user_quant)\n",
        "  print(\"price         :\",data[user_prodid][\"price\"])\n",
        "  print(\"//------------------------------------//\")\n",
        "  print(\"Bill Amount   :\",data[user_prodid][\"price\"] * user_quant)\n",
        "  print(\"//------------------------------------//\")\n",
        "  print(\"         **Thank You**                     \")\n",
        "  print(\"//************************************//\")\n",
        "  data[user_prodid]['quant']-=user_quant\n",
        "else:\n",
        "  print(\"            **Sorry**            \")\n",
        "  print(\"Available Quantity     :\",data[user_prodid]['quant'])\n",
        "\n"
      ],
      "execution_count": 124,
      "outputs": [
        {
          "output_type": "stream",
          "name": "stdout",
          "text": [
            "enter prod_id1030\n",
            "enter product quantity1\n",
            "//************************************//\n",
            "Product_Id    : 1030\n",
            "Product_Name  : laptops\n",
            "Quantity      : 1\n",
            "price         : 25000\n",
            "//------------------------------------//\n",
            "Bill Amount   : 25000\n",
            "//------------------------------------//\n",
            "         **Thank You**                     \n",
            "//************************************//\n"
          ]
        }
      ]
    },
    {
      "cell_type": "markdown",
      "metadata": {
        "id": "mIh2MO0wwyfO"
      },
      "source": [
        "Updating JSON File After Purchase"
      ]
    },
    {
      "cell_type": "code",
      "metadata": {
        "id": "E6EEuuovvbjb"
      },
      "source": [
        "js=json.dumps(data)\n",
        "file=open(\"record.json\",'w')\n",
        "file.write(js)\n",
        "file.close()\n"
      ],
      "execution_count": 125,
      "outputs": []
    },
    {
      "cell_type": "markdown",
      "metadata": {
        "id": "tLnDp6dAxE17"
      },
      "source": [
        "Sales Updating for Purchase"
      ]
    },
    {
      "cell_type": "code",
      "metadata": {
        "id": "CGuVIWeywFtv"
      },
      "source": [
        "sales={}\n"
      ],
      "execution_count": 65,
      "outputs": []
    },
    {
      "cell_type": "code",
      "metadata": {
        "id": "HZwStxBb1TWJ"
      },
      "source": [
        "sales[len(sales)+1]={\"prod_id\":user_prodid,\"name\":data[user_prodid]['name'],\"quant\":user_quant,\"price\":data[user_prodid][\"price\"]}"
      ],
      "execution_count": 126,
      "outputs": []
    },
    {
      "cell_type": "code",
      "metadata": {
        "colab": {
          "base_uri": "https://localhost:8080/"
        },
        "id": "5SveHPDlyf20",
        "outputId": "5fbbab0f-077f-4ad3-af21-bb4c7c5f9704"
      },
      "source": [
        "sales"
      ],
      "execution_count": 127,
      "outputs": [
        {
          "output_type": "execute_result",
          "data": {
            "text/plain": [
              "{1: {'name': 'pizza', 'price': 110, 'prod_id': '1004', 'quant': 8},\n",
              " 2: {'name': 'kitkat', 'price': 10, 'prod_id': '1001', 'quant': 10},\n",
              " 3: {'name': 'bourbon', 'price': 30, 'prod_id': '1002', 'quant': 10},\n",
              " 4: {'name': 'pizza', 'price': 110, 'prod_id': '1004', 'quant': 10},\n",
              " 5: {'name': 'cheese', 'price': 45, 'prod_id': '1005', 'quant': 10},\n",
              " 6: {'name': 'fruitcakes', 'price': 30, 'prod_id': '1009', 'quant': 10},\n",
              " 7: {'name': 'muffins', 'price': 25, 'prod_id': '1010', 'quant': 10},\n",
              " 8: {'name': 'kurkure', 'price': 5, 'prod_id': '1020', 'quant': 9},\n",
              " 9: {'name': 'rin', 'price': 20, 'prod_id': '1025', 'quant': 10},\n",
              " 10: {'name': 'laptops', 'price': 25000, 'prod_id': '1030', 'quant': 1}}"
            ]
          },
          "metadata": {},
          "execution_count": 127
        }
      ]
    },
    {
      "cell_type": "code",
      "metadata": {
        "colab": {
          "base_uri": "https://localhost:8080/",
          "height": 86
        },
        "id": "I5Y5Op3QzrqV",
        "outputId": "5078527c-2c25-4dc4-ec42-43a606e54e1a"
      },
      "source": [
        "sale=json.dumps(sales)\n",
        "sale"
      ],
      "execution_count": 128,
      "outputs": [
        {
          "output_type": "execute_result",
          "data": {
            "application/vnd.google.colaboratory.intrinsic+json": {
              "type": "string"
            },
            "text/plain": [
              "'{\"1\": {\"prod_id\": \"1004\", \"name\": \"pizza\", \"quant\": 8, \"price\": 110}, \"2\": {\"prod_id\": \"1001\", \"name\": \"kitkat\", \"quant\": 10, \"price\": 10}, \"3\": {\"prod_id\": \"1002\", \"name\": \"bourbon\", \"quant\": 10, \"price\": 30}, \"4\": {\"prod_id\": \"1004\", \"name\": \"pizza\", \"quant\": 10, \"price\": 110}, \"5\": {\"prod_id\": \"1005\", \"name\": \"cheese\", \"quant\": 10, \"price\": 45}, \"6\": {\"prod_id\": \"1009\", \"name\": \"fruitcakes\", \"quant\": 10, \"price\": 30}, \"7\": {\"prod_id\": \"1010\", \"name\": \"muffins\", \"quant\": 10, \"price\": 25}, \"8\": {\"prod_id\": \"1020\", \"name\": \"kurkure\", \"quant\": 9, \"price\": 5}, \"9\": {\"prod_id\": \"1025\", \"name\": \"rin\", \"quant\": 10, \"price\": 20}, \"10\": {\"prod_id\": \"1030\", \"name\": \"laptops\", \"quant\": 1, \"price\": 25000}}'"
            ]
          },
          "metadata": {},
          "execution_count": 128
        }
      ]
    },
    {
      "cell_type": "code",
      "metadata": {
        "id": "JDyLhF_q0Mr5"
      },
      "source": [
        "file=open(\"sale.json\",'w')\n",
        "file.write(sale)\n",
        "file.close()\n"
      ],
      "execution_count": 129,
      "outputs": []
    },
    {
      "cell_type": "code",
      "metadata": {
        "colab": {
          "base_uri": "https://localhost:8080/",
          "height": 86
        },
        "id": "4ixdA_Dc0eOK",
        "outputId": "793e829f-e777-40ff-ee5a-d97f2775b37a"
      },
      "source": [
        "file=open(\"sale.json\",'r')\n",
        "r=file.read()\n",
        "file.close()\n",
        "r"
      ],
      "execution_count": 130,
      "outputs": [
        {
          "output_type": "execute_result",
          "data": {
            "application/vnd.google.colaboratory.intrinsic+json": {
              "type": "string"
            },
            "text/plain": [
              "'{\"1\": {\"prod_id\": \"1004\", \"name\": \"pizza\", \"quant\": 8, \"price\": 110}, \"2\": {\"prod_id\": \"1001\", \"name\": \"kitkat\", \"quant\": 10, \"price\": 10}, \"3\": {\"prod_id\": \"1002\", \"name\": \"bourbon\", \"quant\": 10, \"price\": 30}, \"4\": {\"prod_id\": \"1004\", \"name\": \"pizza\", \"quant\": 10, \"price\": 110}, \"5\": {\"prod_id\": \"1005\", \"name\": \"cheese\", \"quant\": 10, \"price\": 45}, \"6\": {\"prod_id\": \"1009\", \"name\": \"fruitcakes\", \"quant\": 10, \"price\": 30}, \"7\": {\"prod_id\": \"1010\", \"name\": \"muffins\", \"quant\": 10, \"price\": 25}, \"8\": {\"prod_id\": \"1020\", \"name\": \"kurkure\", \"quant\": 9, \"price\": 5}, \"9\": {\"prod_id\": \"1025\", \"name\": \"rin\", \"quant\": 10, \"price\": 20}, \"10\": {\"prod_id\": \"1030\", \"name\": \"laptops\", \"quant\": 1, \"price\": 25000}}'"
            ]
          },
          "metadata": {},
          "execution_count": 130
        }
      ]
    },
    {
      "cell_type": "code",
      "metadata": {
        "id": "aXLzZYli00my"
      },
      "source": [
        ""
      ],
      "execution_count": null,
      "outputs": []
    }
  ]
}